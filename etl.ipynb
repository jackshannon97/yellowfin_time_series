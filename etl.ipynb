{
 "cells": [
  {
   "cell_type": "code",
   "execution_count": 1,
   "source": [
    "import pandas as pd\r\n",
    "import datetime\r\n",
    "import requests\r\n",
    "import io\r\n",
    "import numpy as np"
   ],
   "outputs": [],
   "metadata": {}
  },
  {
   "cell_type": "code",
   "execution_count": 2,
   "source": [
    "#read YFT csv\r\n",
    "data = pd.read_csv('YFT_iotc_2.csv')\r\n",
    "print(data)"
   ],
   "outputs": [
    {
     "output_type": "stream",
     "name": "stdout",
     "text": [
      "        Year  Month     Grid Fishery  NCnoFish  NCmtFish\n",
      "0       1950      1  6100070      BB   9502.98     31.25\n",
      "1       1950      1  6100080      BB    966.68      3.24\n",
      "2       1950      1  6100080      GI    191.97      1.82\n",
      "3       1950      1  6100080      OT    103.37      0.70\n",
      "4       1950      1  6100080      TR     38.93      1.52\n",
      "...      ...    ...      ...     ...       ...       ...\n",
      "264092  2020     12  6230095      LF     25.78      1.41\n",
      "264093  2020     12  6230100      LF    167.57      9.36\n",
      "264094  2020     12  6235020      LL     50.83      3.17\n",
      "264095  2020     12  6235025      LL      1.13      0.06\n",
      "264096  2020     12  6235030      LL      2.20      0.11\n",
      "\n",
      "[264097 rows x 6 columns]\n"
     ]
    }
   ],
   "metadata": {}
  },
  {
   "cell_type": "code",
   "execution_count": 10,
   "source": [
    "#set as dataframe\r\n",
    "df = pd.DataFrame(data)\r\n",
    "#rename columns\r\n",
    "df = df.rename(columns = {'NCnoFish': 'Count', 'NCmtFish': 'Weight'})\r\n",
    "#create datetime column\r\n",
    "df['Date'] = pd.to_datetime(df[['Year', 'Month']].assign(Day=1))\r\n",
    "#drop columns\r\n",
    "df_tidy = df.drop(['Year', 'Month', 'Fishery', 'Count', 'Grid'], axis=1)\r\n",
    "print(df_tidy)"
   ],
   "outputs": [
    {
     "output_type": "stream",
     "name": "stdout",
     "text": [
      "        Weight       Date\n",
      "0        31.25 1950-01-01\n",
      "1         3.24 1950-01-01\n",
      "2         1.82 1950-01-01\n",
      "3         0.70 1950-01-01\n",
      "4         1.52 1950-01-01\n",
      "...        ...        ...\n",
      "264092    1.41 2020-12-01\n",
      "264093    9.36 2020-12-01\n",
      "264094    3.17 2020-12-01\n",
      "264095    0.06 2020-12-01\n",
      "264096    0.11 2020-12-01\n",
      "\n",
      "[264097 rows x 2 columns]\n"
     ]
    }
   ],
   "metadata": {}
  },
  {
   "cell_type": "code",
   "execution_count": 11,
   "source": [
    "#export to csv.\r\n",
    "df_tidy.to_csv(\"YFT_clean_2.csv\")"
   ],
   "outputs": [],
   "metadata": {}
  }
 ],
 "metadata": {
  "orig_nbformat": 4,
  "language_info": {
   "name": "python",
   "version": "3.9.7",
   "mimetype": "text/x-python",
   "codemirror_mode": {
    "name": "ipython",
    "version": 3
   },
   "pygments_lexer": "ipython3",
   "nbconvert_exporter": "python",
   "file_extension": ".py"
  },
  "kernelspec": {
   "name": "python3",
   "display_name": "Python 3.9.7 64-bit (windows store)"
  },
  "interpreter": {
   "hash": "fc65848199ab5d3afbf5110e7a5e0cec1968acdf0dd6acfe3c6bd85b656f1267"
  }
 },
 "nbformat": 4,
 "nbformat_minor": 2
}